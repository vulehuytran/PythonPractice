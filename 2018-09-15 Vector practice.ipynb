{
 "cells": [
  {
   "cell_type": "code",
   "execution_count": 1,
   "metadata": {},
   "outputs": [],
   "source": [
    "from __future__ import division"
   ]
  },
  {
   "cell_type": "code",
   "execution_count": 2,
   "metadata": {},
   "outputs": [],
   "source": [
    "# how to add 2 vectors to get another vector\n",
    "\n",
    "def vector_add(v, w):\n",
    "    return [v_i + w_i for v_i, w_i in zip(v,w)]"
   ]
  },
  {
   "cell_type": "code",
   "execution_count": 3,
   "metadata": {},
   "outputs": [
    {
     "name": "stdout",
     "output_type": "stream",
     "text": [
      "[2, 11]\n"
     ]
    }
   ],
   "source": [
    "# example 1:\n",
    "\n",
    "a = [3, 4]\n",
    "b = [-1, 7]\n",
    "\n",
    "c = vector_add(a, b)\n",
    "print(c)"
   ]
  },
  {
   "cell_type": "code",
   "execution_count": 4,
   "metadata": {},
   "outputs": [],
   "source": [
    "# how to substract one vector by another vector\n",
    "\n",
    "def vector_substract(v, w):\n",
    "    return [v_i - w_i for v_i, w_i in zip(v,w)]"
   ]
  },
  {
   "cell_type": "code",
   "execution_count": 5,
   "metadata": {},
   "outputs": [
    {
     "name": "stdout",
     "output_type": "stream",
     "text": [
      "[4, -3]\n"
     ]
    }
   ],
   "source": [
    "# example 2:\n",
    "\n",
    "d = vector_substract(a, b)\n",
    "print(d)"
   ]
  },
  {
   "cell_type": "code",
   "execution_count": 6,
   "metadata": {},
   "outputs": [],
   "source": [
    "# how to multiply vector with a number (this is a scalar product)\n",
    "\n",
    "def scalar_multiply(c, v):\n",
    "    return [c * v_i for v_i in v]"
   ]
  },
  {
   "cell_type": "code",
   "execution_count": 7,
   "metadata": {},
   "outputs": [
    {
     "name": "stdout",
     "output_type": "stream",
     "text": [
      "[12, 16]\n"
     ]
    }
   ],
   "source": [
    "# example 3:\n",
    "\n",
    "e = scalar_multiply(4, a)\n",
    "print(e)"
   ]
  },
  {
   "cell_type": "code",
   "execution_count": 8,
   "metadata": {},
   "outputs": [],
   "source": [
    "# how to find the sum of multiple vectors (result will be a sum vector)\n",
    "\n",
    "def vector_sum(vectors):\n",
    "    result = vectors[0]\n",
    "    for vector in vectors[1:]:\n",
    "        result = vector_add(result, vector)\n",
    "    return result"
   ]
  },
  {
   "cell_type": "code",
   "execution_count": 9,
   "metadata": {},
   "outputs": [
    {
     "name": "stdout",
     "output_type": "stream",
     "text": [
      "[6, 21]\n"
     ]
    }
   ],
   "source": [
    "# example 4:\n",
    "a1 = [1, 2]\n",
    "a2 = [4,2]\n",
    "a3 = [5,9]\n",
    "a4 = [-4, 8]\n",
    "\n",
    "a5 = [a1, a2, a3, a4]\n",
    "print(vector_sum(a5))"
   ]
  },
  {
   "cell_type": "code",
   "execution_count": 10,
   "metadata": {},
   "outputs": [],
   "source": [
    "# how to calculate the mean of multiple vectors?\n",
    "\n",
    "def vector_mean(vectors):\n",
    "    n = len(vectors)\n",
    "    return scalar_multiply(1/n, vector_sum(vectors))"
   ]
  },
  {
   "cell_type": "code",
   "execution_count": 11,
   "metadata": {},
   "outputs": [
    {
     "name": "stdout",
     "output_type": "stream",
     "text": [
      "[1.5, 5.25]\n"
     ]
    }
   ],
   "source": [
    "# example 5:\n",
    "a6 = vector_mean(a5)\n",
    "print(a6)"
   ]
  },
  {
   "cell_type": "code",
   "execution_count": 12,
   "metadata": {},
   "outputs": [],
   "source": [
    "\"\"\" how to calculate dot product of 2 vectors\n",
    "geometric method: A.B = |A|.|B|.cos(A, B) = a number\n",
    "algebraic method: A.B = a1b1 + ... + anbn\"\"\"\n",
    "\n",
    "def dot_product(u,v):\n",
    "    return sum(u_i*v_i for u_i, v_i in zip(u,v))"
   ]
  },
  {
   "cell_type": "code",
   "execution_count": 13,
   "metadata": {},
   "outputs": [
    {
     "name": "stdout",
     "output_type": "stream",
     "text": [
      "-2\n"
     ]
    }
   ],
   "source": [
    "# example 6:\n",
    "a = [3, 7]\n",
    "b = [4, -2]\n",
    "c = dot_product(a, b)\n",
    "print(c)"
   ]
  },
  {
   "cell_type": "code",
   "execution_count": 14,
   "metadata": {},
   "outputs": [],
   "source": [
    "# how to compute the magnitude of a vector?\n",
    "# formular: |a| = sqrt(x^2 + y^2 + z^2)\n",
    "# step 1: compute the sum of squares\n",
    "\n",
    "def sum_of_squares(v):\n",
    "    return sum(v_i*v_i for v_i in v)   # or return dot_product(v,v)\n",
    "\n",
    "# step 2: compute the square root of the sum of squares\n",
    "\n",
    "import math\n",
    "def magnitude(v):\n",
    "    return math.sqrt(sum_of_squares(v))"
   ]
  },
  {
   "cell_type": "code",
   "execution_count": 15,
   "metadata": {},
   "outputs": [
    {
     "name": "stdout",
     "output_type": "stream",
     "text": [
      "9.48683298051\n",
      "13.416407865\n"
     ]
    }
   ],
   "source": [
    "# example 7:\n",
    "\n",
    "a = [3, 9]\n",
    "b = [6, 12]\n",
    "\n",
    "# magnitude of vector a\n",
    "print(magnitude(a))\n",
    "\n",
    "print(magnitude(b))"
   ]
  },
  {
   "cell_type": "code",
   "execution_count": 16,
   "metadata": {},
   "outputs": [
    {
     "name": "stdout",
     "output_type": "stream",
     "text": [
      "126\n"
     ]
    }
   ],
   "source": [
    "print(dot_product(a,b))"
   ]
  },
  {
   "cell_type": "code",
   "execution_count": 17,
   "metadata": {},
   "outputs": [
    {
     "name": "stdout",
     "output_type": "stream",
     "text": [
      "0.989949493661\n"
     ]
    }
   ],
   "source": [
    "# find the angle between vector a and b\n",
    "# step 1: compute cosine of (a,b)\n",
    "\n",
    "cosine_ab = dot_product(a,b) / (magnitude(a)*magnitude(b))\n",
    "print(cosine_ab)"
   ]
  },
  {
   "cell_type": "code",
   "execution_count": 19,
   "metadata": {},
   "outputs": [
    {
     "name": "stdout",
     "output_type": "stream",
     "text": [
      "8.13010235416\n"
     ]
    }
   ],
   "source": [
    "# step 2: comput the reverse cosine or acosine\n",
    "\n",
    "import math\n",
    "from math import acos, degrees\n",
    "\n",
    "angle_ab = degrees(acos(cosine_ab))\n",
    "print(angle_ab)"
   ]
  },
  {
   "cell_type": "code",
   "execution_count": 23,
   "metadata": {},
   "outputs": [],
   "source": [
    "# compute the distance between 2 vectors\n",
    "# distance = sqrt[(a1-b1)^2 + ... + (an-bn)^2]\n",
    "\n",
    "def distance(v, w):\n",
    "    return magnitude(vector_substract(v, w))"
   ]
  },
  {
   "cell_type": "code",
   "execution_count": 24,
   "metadata": {},
   "outputs": [
    {
     "name": "stdout",
     "output_type": "stream",
     "text": [
      "15.2643375225\n"
     ]
    }
   ],
   "source": [
    "# example 8:\n",
    "\n",
    "a = [4, 7]\n",
    "b = [12, -6]\n",
    "\n",
    "print(distance(a,b))"
   ]
  },
  {
   "cell_type": "code",
   "execution_count": null,
   "metadata": {},
   "outputs": [],
   "source": []
  }
 ],
 "metadata": {
  "kernelspec": {
   "display_name": "Python 2",
   "language": "python",
   "name": "python2"
  },
  "language_info": {
   "codemirror_mode": {
    "name": "ipython",
    "version": 2
   },
   "file_extension": ".py",
   "mimetype": "text/x-python",
   "name": "python",
   "nbconvert_exporter": "python",
   "pygments_lexer": "ipython2",
   "version": "2.7.15"
  }
 },
 "nbformat": 4,
 "nbformat_minor": 2
}
