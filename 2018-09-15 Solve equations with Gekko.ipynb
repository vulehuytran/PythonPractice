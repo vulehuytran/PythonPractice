{
 "cells": [
  {
   "cell_type": "markdown",
   "metadata": {},
   "source": [
    "### Linear equations:\n",
    "Linear equations have the form ax + by + cz = d\n",
    "Any equation that cannot be written in that form is to be called *non-linear.*\n",
    "\n",
    "**How to solve linear equations:**\n",
    "**Step 1:** Re-write the equations to matrix forms:\n",
    "a1x + b1y + c1z = d1\n",
    "a2x + b2y + c2z = d2\n",
    "a3x + b3y + c3z = d3\n",
    "\n",
    "will become\n",
    "\n",
    "A x X = B\n",
    "\n",
    "**Step 2:** Solve it as matrices\n",
    "X = (A^-1).B"
   ]
  },
  {
   "cell_type": "code",
   "execution_count": 1,
   "metadata": {},
   "outputs": [
    {
     "name": "stdout",
     "output_type": "stream",
     "text": [
      "Matrix A: \n",
      "[[ 2  4 -1]\n",
      " [ 1 -5 16]\n",
      " [ 7 -1 -2]]\n",
      "Matrix B: \n",
      "[ 9 25 30]\n"
     ]
    }
   ],
   "source": [
    "# Solve linear equations using numpy\n",
    "\n",
    "\"\"\" Want to solve this system of equations:\n",
    "2x + 4y - z = 9\n",
    "x - 5y + 16z = 25\n",
    "7x - y - 2z = 30\"\"\"\n",
    "\n",
    "# step 1: input data as matrices\n",
    "\n",
    "import numpy as np\n",
    "A = np.array([[2,4,-1], [1,-5,16], [7,-1,-2]])\n",
    "B = np.array([9,25,30])\n",
    "\n",
    "print(\"Matrix A: \")\n",
    "print(A)\n",
    "print(\"Matrix B: \")\n",
    "print(B)"
   ]
  },
  {
   "cell_type": "code",
   "execution_count": 25,
   "metadata": {},
   "outputs": [
    {
     "name": "stdout",
     "output_type": "stream",
     "text": [
      "Solution x, y, z: \n",
      "[4.70253165 0.23417722 1.34177215]\n"
     ]
    }
   ],
   "source": [
    "# step 2: solve the equation using matrices:\n",
    "\n",
    "X = np.linalg.solve(A,B)\n",
    "\n",
    "print(\"Solution x, y, z: \")\n",
    "print(X)"
   ]
  },
  {
   "cell_type": "markdown",
   "metadata": {},
   "source": [
    "### Gekko package:\n",
    "I found it from a YouTube channel APMonitor.com\n",
    "\n",
    "How to install it:\n",
    "**Check if I have pip:** In bash: which pip pip -V\n",
    "\n",
    "**Install gekko:** pip install gekko"
   ]
  },
  {
   "cell_type": "code",
   "execution_count": 3,
   "metadata": {},
   "outputs": [],
   "source": [
    "from gekko import GEKKO"
   ]
  },
  {
   "cell_type": "markdown",
   "metadata": {},
   "source": [
    " ### Non-linear equations:"
   ]
  },
  {
   "cell_type": "code",
   "execution_count": 13,
   "metadata": {},
   "outputs": [
    {
     "name": "stdout",
     "output_type": "stream",
     "text": [
      "Solution for 3x^2 - 2x + 5 = 0 is:\n",
      "[0.3333333]\n"
     ]
    }
   ],
   "source": [
    "\"\"\" Create a model named GEKKO. \n",
    "In this model, define a variable y and assign a guess value of 2.\n",
    "Then write down the equation we need to solve.\n",
    "Then call APOPT. Finally solve it and print out the value.\"\"\"\n",
    "\n",
    "\"\"\" I can choose to display the whole process of solving equation or hide it\"\"\"\n",
    "\n",
    "m = GEKKO()\n",
    "x = m.Var(value=2)\n",
    "m.Equation(3*x**2 - 2*x + 5 == 0)\n",
    "m.options.SOLVER=1\n",
    "m.solve(disp=False)\n",
    "print(\"Solution for 3x^2 - 2x + 5 = 0 is:\")\n",
    "print(x.value)"
   ]
  },
  {
   "cell_type": "code",
   "execution_count": 14,
   "metadata": {},
   "outputs": [
    {
     "name": "stdout",
     "output_type": "stream",
     "text": [
      "Solution for 7x^2 - 5x + 12 = 0 is:\n",
      "[0.3571429]\n"
     ]
    }
   ],
   "source": [
    "# Example 2: solve this equation: 7x^2 - 5x + 12 = 0\n",
    "\n",
    "m = GEKKO()\n",
    "x = m.Var(value=2)\n",
    "m.Equation(7*x**2 - 5*x + 12 == 0)\n",
    "m.options.SOLVER = 1\n",
    "m.solve(disp=False)\n",
    "print(\"Solution for 7x^2 - 5x + 12 = 0 is:\")\n",
    "print(x.value)"
   ]
  },
  {
   "cell_type": "markdown",
   "metadata": {},
   "source": [
    "### Solve Linear Equations with Gekko:"
   ]
  },
  {
   "cell_type": "code",
   "execution_count": 15,
   "metadata": {},
   "outputs": [
    {
     "name": "stdout",
     "output_type": "stream",
     "text": [
      "Solution x, y, z:\n",
      "([-3.5], [-2.5], [-26.0])\n"
     ]
    }
   ],
   "source": [
    "\"\"\" Want to solve this system of equations again with Gekko:\n",
    "2x + 4y - z = 9\n",
    "x - 5y + 16 = 25\n",
    "7x - y - 2z = 30\"\"\"\n",
    "\n",
    "m = GEKKO()\n",
    "x = m.Var()\n",
    "y = m.Var()\n",
    "z = m.Var()\n",
    "m.Equation(2*x + 4*y - z == 9)\n",
    "m.Equation(x - 5*y + 16 == 25)\n",
    "m.Equation(7*x - y - 2*z == 30)\n",
    "m.solve(disp=False)\n",
    "print(\"Solution x, y, z:\")\n",
    "print(x.value, y.value, z.value)"
   ]
  },
  {
   "cell_type": "code",
   "execution_count": 22,
   "metadata": {},
   "outputs": [
    {
     "name": "stdout",
     "output_type": "stream",
     "text": [
      "([-0.8870795], [0.4435398])\n"
     ]
    }
   ],
   "source": [
    "\"\"\" Want to solve this system of equations again with Gekko:\n",
    "x + 2y = 0\n",
    "x^2 + y^2 = 1\"\"\"\n",
    "\n",
    "m = GEKKO()\n",
    "x = m.Var(value=-1)\n",
    "y = m.Var(value=1)\n",
    "m.Equation(x + 2*y == 0)\n",
    "m.Equation(x**2 + y**2 < 1)\n",
    "m.solve(disp=False)\n",
    "print(x.value, y.value)"
   ]
  },
  {
   "cell_type": "markdown",
   "metadata": {},
   "source": [
    "### Differential Equations\n",
    "\n",
    "Can be solved in Numpy or Gekko"
   ]
  },
  {
   "cell_type": "code",
   "execution_count": 33,
   "metadata": {},
   "outputs": [],
   "source": [
    "# Example: solve this ODE: k*dy/dt = -ty\n",
    "# y(0) = 5, t goes from 0 -> 20\n",
    "\n",
    "import numpy as np\n",
    "\n",
    "m = GEKKO()\n",
    "k = 10\n",
    "y = m.Var(value=5)\n",
    "\n",
    "#time space from 0 to 20\n",
    "tm = np.linspace(0,20)\n",
    "\n",
    "# model time: only used for dynamic modes (IMODE>3)\n",
    "m.time = tm\n",
    "t = m.Param(value=tm)\n",
    "m.Equation(k*y.dt() == -t*y)\n",
    "\n",
    "# has to have IMODE to solve the ODE\n",
    "m.options.IMODE=4\n",
    "m.solve(disp=False)"
   ]
  },
  {
   "cell_type": "code",
   "execution_count": 34,
   "metadata": {},
   "outputs": [],
   "source": [
    "import matplotlib.pyplot as plt\n",
    "%matplotlib inline"
   ]
  },
  {
   "cell_type": "code",
   "execution_count": 35,
   "metadata": {},
   "outputs": [
    {
     "data": {
      "image/png": "[encoded data removed]",
      "text/plain": [
       "<Figure size 432x288 with 1 Axes>"
      ]
     },
     "metadata": {},
     "output_type": "display_data"
    }
   ],
   "source": [
    "plt.plot(tm, y.value, 'g-', label=\"Numerical\")\n",
    "plt.xlabel(\"time\")\n",
    "plt.ylabel(\"y value\")\n",
    "plt.show()"
   ]
  },
  {
   "cell_type": "markdown",
   "metadata": {},
   "source": [
    "### Solve this ODE using Scipy:"
   ]
  },
  {
   "cell_type": "code",
   "execution_count": 36,
   "metadata": {},
   "outputs": [],
   "source": [
    "import scipy\n",
    "from scipy.integrate import odeint"
   ]
  },
  {
   "cell_type": "code",
   "execution_count": 37,
   "metadata": {},
   "outputs": [
    {
     "data": {
      "image/png": "[encoded data removed]",
      "text/plain": [
       "<Figure size 432x288 with 1 Axes>"
      ]
     },
     "metadata": {},
     "output_type": "display_data"
    }
   ],
   "source": [
    "# define a model for y and t:\n",
    "\n",
    "def model(y,t):\n",
    "    dydt = -t*y/k\n",
    "    return dydt\n",
    "\n",
    "y_odeint = odeint(model, 5, tm)\n",
    "\n",
    "plt.plot(tm, y_odeint, 'r--', label=\"OdeInt\")\n",
    "plt.xlabel(\"time\")\n",
    "plt.ylabel(\"y value\")\n",
    "plt.show()"
   ]
  },
  {
   "cell_type": "code",
   "execution_count": 42,
   "metadata": {},
   "outputs": [
    {
     "data": {
      "image/png": "[encoded data removed]",
      "text/plain": [
       "<Figure size 432x288 with 1 Axes>"
      ]
     },
     "metadata": {},
     "output_type": "display_data"
    }
   ],
   "source": [
    "# analytical solution:\n",
    "y_ana = 5*np.exp(-tm**2/(2*k))\n",
    "\n",
    "plt.plot(tm, y.value, 'g-', label=\"Numerical\")\n",
    "plt.plot(tm, y_ana, 'b:', label=\"Analytical\")\n",
    "plt.plot(tm, y_odeint, 'r--', label=\"OdeInt\")\n",
    "plt.legend()\n",
    "plt.xlabel(\"time\")\n",
    "plt.ylabel(\"y value\")\n",
    "plt.show()"
   ]
  },
  {
   "cell_type": "code",
   "execution_count": null,
   "metadata": {},
   "outputs": [],
   "source": []
  }
 ],
 "metadata": {
  "kernelspec": {
   "display_name": "Python 2",
   "language": "python",
   "name": "python2"
  },
  "language_info": {
   "codemirror_mode": {
    "name": "ipython",
    "version": 2
   },
   "file_extension": ".py",
   "mimetype": "text/x-python",
   "name": "python",
   "nbconvert_exporter": "python",
   "pygments_lexer": "ipython2",
   "version": "2.7.15"
  }
 },
 "nbformat": 4,
 "nbformat_minor": 2
}
