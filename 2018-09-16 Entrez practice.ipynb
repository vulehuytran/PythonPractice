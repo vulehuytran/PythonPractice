{
 "cells": [
  {
   "cell_type": "code",
   "execution_count": 1,
   "metadata": {},
   "outputs": [],
   "source": [
    "from Bio import Entrez\n",
    "Entrez.email = 'vutran1989@berkeley.edu'"
   ]
  },
  {
   "cell_type": "code",
   "execution_count": 2,
   "metadata": {},
   "outputs": [
    {
     "name": "stdout",
     "output_type": "stream",
     "text": [
      "<?xml version=\"1.0\" encoding=\"UTF-8\" ?>\n",
      "<!DOCTYPE eInfoResult PUBLIC \"-//NLM//DTD einfo 20130322//EN\" \"https://eutils.ncbi.nlm.nih.gov/eutils/dtd/20130322/einfo.dtd\">\n",
      "<eInfoResult>\n",
      "<DbList>\n",
      "\n",
      "\t<DbName>pubmed</DbName>\n",
      "\t<DbName>protein</DbName>\n",
      "\t<DbName>nuccore</DbName>\n",
      "\t<DbName>ipg</DbName>\n",
      "\t<DbName>nucleotide</DbName>\n",
      "\t<DbName>nucgss</DbName>\n",
      "\t<DbName>nucest</DbName>\n",
      "\t<DbName>structure</DbName>\n",
      "\t<DbName>sparcle</DbName>\n",
      "\t<DbName>genome</DbName>\n",
      "\t<DbName>annotinfo</DbName>\n",
      "\t<DbName>assembly</DbName>\n",
      "\t<DbName>bioproject</DbName>\n",
      "\t<DbName>biosample</DbName>\n",
      "\t<DbName>blastdbinfo</DbName>\n",
      "\t<DbName>books</DbName>\n",
      "\t<DbName>cdd</DbName>\n",
      "\t<DbName>clinvar</DbName>\n",
      "\t<DbName>clone</DbName>\n",
      "\t<DbName>gap</DbName>\n",
      "\t<DbName>gapplus</DbName>\n",
      "\t<DbName>grasp</DbName>\n",
      "\t<DbName>dbvar</DbName>\n",
      "\t<DbName>gene</DbName>\n",
      "\t<DbName>gds</DbName>\n",
      "\t<DbName>geoprofiles</DbName>\n",
      "\t<DbName>homologene</DbName>\n",
      "\t<DbName>medgen</DbName>\n",
      "\t<DbName>mesh</DbName>\n",
      "\t<DbName>ncbisearch</DbName>\n",
      "\t<DbName>nlmcatalog</DbName>\n",
      "\t<DbName>omim</DbName>\n",
      "\t<DbName>orgtrack</DbName>\n",
      "\t<DbName>pmc</DbName>\n",
      "\t<DbName>popset</DbName>\n",
      "\t<DbName>probe</DbName>\n",
      "\t<DbName>proteinclusters</DbName>\n",
      "\t<DbName>pcassay</DbName>\n",
      "\t<DbName>biosystems</DbName>\n",
      "\t<DbName>pccompound</DbName>\n",
      "\t<DbName>pcsubstance</DbName>\n",
      "\t<DbName>pubmedhealth</DbName>\n",
      "\t<DbName>seqannot</DbName>\n",
      "\t<DbName>snp</DbName>\n",
      "\t<DbName>sra</DbName>\n",
      "\t<DbName>taxonomy</DbName>\n",
      "\t<DbName>biocollections</DbName>\n",
      "\t<DbName>unigene</DbName>\n",
      "\t<DbName>gencoll</DbName>\n",
      "\t<DbName>gtr</DbName>\n",
      "</DbList>\n",
      "\n",
      "</eInfoResult>\n",
      "\n"
     ]
    }
   ],
   "source": [
    "# want to know all the databases I can access through Entrez, can be done in many ways\n",
    "\n",
    "# Way 1:\n",
    "\n",
    "handle = Entrez.einfo()\n",
    "results = handle.read()\n",
    "handle.close()\n",
    "print(results)"
   ]
  },
  {
   "cell_type": "code",
   "execution_count": 3,
   "metadata": {},
   "outputs": [
    {
     "name": "stdout",
     "output_type": "stream",
     "text": [
      "[u'DbList']\n",
      "[['pubmed', 'protein', 'nuccore', 'ipg', 'nucleotide', 'nucgss', 'nucest', 'structure', 'sparcle', 'genome', 'annotinfo', 'assembly', 'bioproject', 'biosample', 'blastdbinfo', 'books', 'cdd', 'clinvar', 'clone', 'gap', 'gapplus', 'grasp', 'dbvar', 'gene', 'gds', 'geoprofiles', 'homologene', 'medgen', 'mesh', 'ncbisearch', 'nlmcatalog', 'omim', 'orgtrack', 'pmc', 'popset', 'probe', 'proteinclusters', 'pcassay', 'biosystems', 'pccompound', 'pcsubstance', 'pubmedhealth', 'seqannot', 'snp', 'sra', 'taxonomy', 'biocollections', 'unigene', 'gencoll', 'gtr']]\n"
     ]
    }
   ],
   "source": [
    "# Way 2:\n",
    "\n",
    "handle = Entrez.einfo()\n",
    "record = Entrez.read(handle)\n",
    "\n",
    "# now all info in handle are stored in record as a dictionary\n",
    "print(record.keys())\n",
    "print(record.values())"
   ]
  },
  {
   "cell_type": "code",
   "execution_count": 4,
   "metadata": {},
   "outputs": [
    {
     "name": "stdout",
     "output_type": "stream",
     "text": [
      "[u'Count', u'RetMax', u'IdList', u'TranslationStack', u'TranslationSet', u'RetStart', u'QueryTranslation']\n",
      "['55326', '20', ['30218016', '30216810', '30216766', '30213808', '30210441', '30210439', '30210429', '30210425', '30210298', '30208307', '30207233', '30206673', '30204044', '30204040', '30204017', '30203094', '30200577', '30199440', '30198972', '30198312'], [DictElement({u'Count': '35913', u'Field': 'MeSH Terms', u'Term': '\"thalamus\"[MeSH Terms]', u'Explode': 'Y'}, attributes={}), DictElement({u'Count': '43999', u'Field': 'All Fields', u'Term': '\"thalamus\"[All Fields]', u'Explode': 'N'}, attributes={}), 'OR', 'GROUP'], [DictElement({u'To': '\"thalamus\"[MeSH Terms] OR \"thalamus\"[All Fields]', u'From': 'thalamus'}, attributes={})], '0', '\"thalamus\"[MeSH Terms] OR \"thalamus\"[All Fields]']\n"
     ]
    }
   ],
   "source": [
    "# example 1: search \"thalamus\" papers in Pubmed\n",
    "\n",
    "handle = Entrez.esearch(db='pubmed', term='thalamus')\n",
    "record = Entrez.read(handle)\n",
    "print(record.keys())\n",
    "print(record.values())"
   ]
  },
  {
   "cell_type": "code",
   "execution_count": 5,
   "metadata": {},
   "outputs": [
    {
     "name": "stdout",
     "output_type": "stream",
     "text": [
      "[u'Count', u'RetMax', u'IdList', u'TranslationStack', u'TranslationSet', u'RetStart', u'QueryTranslation']\n",
      "['399', '20', ['MF543506.1', 'MF543505.1', 'MF543504.1', 'MF543503.1', 'MF543502.1', 'KP642825.1', 'KY966925.1', 'KY966924.1', 'KY966923.1', 'KY966922.1', 'KY966921.1', 'KY966920.1', 'KY966919.1', 'KY966918.1', 'KY966917.1', 'KY966916.1', 'KY966915.1', 'KY966914.1', 'KY966690.1', 'LC086598.1'], [DictElement({u'Count': '4799', u'Field': 'Organism', u'Term': '\"Cypripedioideae\"[Organism]', u'Explode': 'Y'}, attributes={}), DictElement({u'Count': '155063', u'Field': 'Gene', u'Term': 'matK[Gene]', u'Explode': 'N'}, attributes={}), 'AND'], [DictElement({u'To': '\"Cypripedioideae\"[Organism]', u'From': 'Cypripedioideae[Orgn]'}, attributes={})], '0', '\"Cypripedioideae\"[Organism] AND matK[Gene]']\n"
     ]
    }
   ],
   "source": [
    "# example 2: search matK gene in Cypripedioideae orchids\n",
    "\n",
    "handle = Entrez.esearch(db='nucleotide', term='Cypripedioideae[Orgn] matK[Gene]', idtype='acc')\n",
    "record = Entrez.read(handle)\n",
    "\n",
    "# record is a dictionary \n",
    "\n",
    "print(record.keys())\n",
    "print(record.values())"
   ]
  },
  {
   "cell_type": "code",
   "execution_count": 6,
   "metadata": {},
   "outputs": [
    {
     "name": "stdout",
     "output_type": "stream",
     "text": [
      "399\n"
     ]
    }
   ],
   "source": [
    "print(record[\"Count\"])"
   ]
  },
  {
   "cell_type": "code",
   "execution_count": 7,
   "metadata": {},
   "outputs": [
    {
     "name": "stdout",
     "output_type": "stream",
     "text": [
      "['MF543506.1', 'MF543505.1', 'MF543504.1', 'MF543503.1', 'MF543502.1', 'KP642825.1', 'KY966925.1', 'KY966924.1', 'KY966923.1', 'KY966922.1', 'KY966921.1', 'KY966920.1', 'KY966919.1', 'KY966918.1', 'KY966917.1', 'KY966916.1', 'KY966915.1', 'KY966914.1', 'KY966690.1', 'LC086598.1']\n"
     ]
    }
   ],
   "source": [
    "print(record[\"IdList\"])"
   ]
  },
  {
   "cell_type": "code",
   "execution_count": 8,
   "metadata": {},
   "outputs": [
    {
     "name": "stdout",
     "output_type": "stream",
     "text": [
      "LOCUS       MF543506                 834 bp    DNA     linear   PLN 31-JUL-2018\n",
      "DEFINITION  Cypripedium calceolus voucher CYCAOL02-210813 maturase K (matK)\n",
      "            gene, partial cds; chloroplast.\n",
      "ACCESSION   MF543506\n",
      "VERSION     MF543506.1\n",
      "KEYWORDS    .\n",
      "SOURCE      chloroplast Cypripedium calceolus\n",
      "  ORGANISM  Cypripedium calceolus\n",
      "            Eukaryota; Viridiplantae; Streptophyta; Embryophyta; Tracheophyta;\n",
      "            Spermatophyta; Magnoliophyta; Liliopsida; Asparagales; Orchidaceae;\n",
      "            Cypripedioideae; Cypripedium.\n",
      "REFERENCE   1  (bases 1 to 834)\n",
      "  AUTHORS   Guglielmo,F., Poggio,L. and Tutino,S.\n",
      "  TITLE     DNA barcoding of land plant species in Aosta Valley (Northwest\n",
      "            Italy)\n",
      "  JOURNAL   Unpublished\n",
      "REFERENCE   2  (bases 1 to 834)\n",
      "  AUTHORS   Guglielmo,F., Poggio,L. and Tutino,S.\n",
      "  TITLE     Direct Submission\n",
      "  JOURNAL   Submitted (25-JUL-2017) Aree protette - Museo regionale di Scienze\n",
      "            naturali Efisio Noissan, Regione Autonoma Valle d'Aosta, loc.\n",
      "            Amerique 127A, Quart, Aosta 11020, Italy\n",
      "FEATURES             Location/Qualifiers\n",
      "     source          1..834\n",
      "                     /organism=\"Cypripedium calceolus\"\n",
      "                     /organelle=\"plastid:chloroplast\"\n",
      "                     /mol_type=\"genomic DNA\"\n",
      "                     /specimen_voucher=\"CYCAOL02-210813\"\n",
      "                     /db_xref=\"BOLD:VDNA042-17.matK\"\n",
      "                     /db_xref=\"taxon:53038\"\n",
      "                     /country=\"Italy: Aosta Valley, Ollomont, Chante\"\n",
      "                     /collection_date=\"21-Aug-2013\"\n",
      "                     /collected_by=\"Laura Poggio,Raffaella Pierobon\"\n",
      "                     /identified_by=\"Laura Poggio\"\n",
      "                     /PCR_primers=\"fwd_seq: cgatctattcattcaatatttc, rev_seq:\n",
      "                     tctagcacacgaaagtcgaagt\"\n",
      "     gene            <1..>834\n",
      "                     /gene=\"matK\"\n",
      "     CDS             <1..>834\n",
      "                     /gene=\"matK\"\n",
      "                     /codon_start=1\n",
      "                     /transl_table=11\n",
      "                     /product=\"maturase K\"\n",
      "                     /protein_id=\"AXG21182.1\"\n",
      "                     /translation=\"NYVSDLLIPHPIHLEILVQILQCWIKDVPSLHLLRLLFHEYHYF\n",
      "                     NSLITSKKSIYAFSRIKKRFLWFLYNSYVYECEYLFHFLRKQSSYLRSTSSGVFLERT\n",
      "                     HFYVKIEHLIVVCCNSFHRILCFLKDPFMHYVRYQGKAILASKGTLILMKKWKFHLVN\n",
      "                     FWQSYLHFWSQPYRIHIKQLYNYSFSFLGYFSSVLENHLVVRNQMLENSFLINIMTKK\n",
      "                     LDTIAPVISLIGSLSKAQFCTVLGHPISKPIWTDLSDSDILDRFCRICRNLCRYHSGS\n",
      "                     SK\"\n",
      "ORIGIN      \n",
      "        1 aattatgtgt cagatctact aataccccat cccatccatc tggaaatctt ggttcaaatc\n",
      "       61 ctgcaatgct ggatcaagga tgttccttct ttgcatttat tgcgattgct tttccacgaa\n",
      "      121 tatcattatt ttaatagtct cattacttca aaaaaaagca tttacgcctt ttcaagaata\n",
      "      181 aagaaaagat tcctttggtt cctatataat tcttatgtat atgaatgcga atatctattc\n",
      "      241 cattttcttc gtaaacagtc ttcttattta cgatcaacat cttctggagt gtttcttgag\n",
      "      301 cgaacacatt tctatgtaaa aatagaacat cttatagtag tgtgttgtaa ttcttttcat\n",
      "      361 aggatcctat gctttctcaa ggatcctttc atgcattatg ttcgatatca aggaaaagca\n",
      "      421 attctggctt caaagggaac tcttattctg atgaagaaat ggaaatttca tcttgttaat\n",
      "      481 ttttggcaat cttatttgca cttttggtct caaccgtata ggatccatat aaagcaatta\n",
      "      541 tacaactatt ccttctcttt tctggggtat ttttcaagtg tactagaaaa tcatttggta\n",
      "      601 gtaagaaatc aaatgctaga gaattcattt ctaataaata ttatgactaa gaaattagat\n",
      "      661 accatagccc cagttatttc tcttattgga tcattgtcga aagctcaatt ttgtactgta\n",
      "      721 ttgggccatc ctattagtaa accgatctgg accgatttat cggattctga tattcttgat\n",
      "      781 cgattttgcc ggatatgtag aaatctttgt cgttatcaca gcggatcctc aaaa\n",
      "//\n",
      "\n",
      "\n"
     ]
    }
   ],
   "source": [
    "# the outcomes from esearch are accession numbers (id)\n",
    "# use efetch to access the actual data for each accession number from GenBank\n",
    "\n",
    "# rettype='gb' and retmode='txt' allow me to download data from GenBank\n",
    "\n",
    "handle = Entrez.efetch(db='nucleotide', id='MF543506.1', rettype='gb', retmode='text')\n",
    "record = handle.read()\n",
    "\n",
    "# record is no longer a dictionary\n",
    "\n",
    "print(record)"
   ]
  },
  {
   "cell_type": "code",
   "execution_count": 9,
   "metadata": {},
   "outputs": [
    {
     "name": "stdout",
     "output_type": "stream",
     "text": [
      "ID: MF543506.1\n",
      "Name: MF543506\n",
      "Description: Cypripedium calceolus voucher CYCAOL02-210813 maturase K (matK) gene, partial cds; chloroplast\n",
      "Number of features: 3\n",
      "/source=chloroplast Cypripedium calceolus\n",
      "/taxonomy=['Eukaryota', 'Viridiplantae', 'Streptophyta', 'Embryophyta', 'Tracheophyta', 'Spermatophyta', 'Magnoliophyta', 'Liliopsida', 'Asparagales', 'Orchidaceae', 'Cypripedioideae', 'Cypripedium']\n",
      "/keywords=['']\n",
      "/references=[Reference(title='DNA barcoding of land plant species in Aosta Valley (Northwest Italy)', ...), Reference(title='Direct Submission', ...)]\n",
      "/accessions=['MF543506']\n",
      "/molecule_type=DNA\n",
      "/data_file_division=PLN\n",
      "/date=31-JUL-2018\n",
      "/organism=Cypripedium calceolus\n",
      "/sequence_version=1\n",
      "/topology=linear\n",
      "Seq('AATTATGTGTCAGATCTACTAATACCCCATCCCATCCATCTGGAAATCTTGGTT...AAA', IUPACAmbiguousDNA())\n"
     ]
    }
   ],
   "source": [
    "# now after esearch I want to parse it directly into SeqRecord\n",
    "\n",
    "from Bio import SeqIO\n",
    "from Bio.Seq import Seq\n",
    "from Bio.SeqRecord import SeqRecord\n",
    "\n",
    "handle = Entrez.efetch(db='nucleotide', id='MF543506.1', rettype='gb', retmode='text')\n",
    "record = SeqIO.read(handle, \"genbank\")\n",
    "\n",
    "print(record)"
   ]
  },
  {
   "cell_type": "code",
   "execution_count": 11,
   "metadata": {},
   "outputs": [
    {
     "name": "stdout",
     "output_type": "stream",
     "text": [
      "MF543506.1\n",
      "\n",
      "Cypripedium calceolus voucher CYCAOL02-210813 maturase K (matK) gene, partial cds; chloroplast\n",
      "\n",
      "AATTATGTGTCAGATCTACTAATACCCCATCCCATCCATCTGGAAATCTTGGTTCAAATCCTGCAATGCTGGATCAAGGATGTTCCTTCTTTGCATTTATTGCGATTGCTTTTCCACGAATATCATTATTTTAATAGTCTCATTACTTCAAAAAAAAGCATTTACGCCTTTTCAAGAATAAAGAAAAGATTCCTTTGGTTCCTATATAATTCTTATGTATATGAATGCGAATATCTATTCCATTTTCTTCGTAAACAGTCTTCTTATTTACGATCAACATCTTCTGGAGTGTTTCTTGAGCGAACACATTTCTATGTAAAAATAGAACATCTTATAGTAGTGTGTTGTAATTCTTTTCATAGGATCCTATGCTTTCTCAAGGATCCTTTCATGCATTATGTTCGATATCAAGGAAAAGCAATTCTGGCTTCAAAGGGAACTCTTATTCTGATGAAGAAATGGAAATTTCATCTTGTTAATTTTTGGCAATCTTATTTGCACTTTTGGTCTCAACCGTATAGGATCCATATAAAGCAATTATACAACTATTCCTTCTCTTTTCTGGGGTATTTTTCAAGTGTACTAGAAAATCATTTGGTAGTAAGAAATCAAATGCTAGAGAATTCATTTCTAATAAATATTATGACTAAGAAATTAGATACCATAGCCCCAGTTATTTCTCTTATTGGATCATTGTCGAAAGCTCAATTTTGTACTGTATTGGGCCATCCTATTAGTAAACCGATCTGGACCGATTTATCGGATTCTGATATTCTTGATCGATTTTGCCGGATATGTAGAAATCTTTGTCGTTATCACAGCGGATCCTCAAAA\n"
     ]
    }
   ],
   "source": [
    "# now access info from record\n",
    "\n",
    "print(record.id)\n",
    "print('')\n",
    "print(record.description)\n",
    "print('')\n",
    "print(record.seq)"
   ]
  },
  {
   "cell_type": "code",
   "execution_count": 12,
   "metadata": {},
   "outputs": [
    {
     "name": "stdout",
     "output_type": "stream",
     "text": [
      "Saved\n",
      "Parsing...\n",
      "ID: MF543506.1\n",
      "Name: MF543506\n",
      "Description: Cypripedium calceolus voucher CYCAOL02-210813 maturase K (matK) gene, partial cds; chloroplast\n",
      "Number of features: 3\n",
      "/source=chloroplast Cypripedium calceolus\n",
      "/taxonomy=['Eukaryota', 'Viridiplantae', 'Streptophyta', 'Embryophyta', 'Tracheophyta', 'Spermatophyta', 'Magnoliophyta', 'Liliopsida', 'Asparagales', 'Orchidaceae', 'Cypripedioideae', 'Cypripedium']\n",
      "/keywords=['']\n",
      "/references=[Reference(title='DNA barcoding of land plant species in Aosta Valley (Northwest Italy)', ...), Reference(title='Direct Submission', ...)]\n",
      "/accessions=['MF543506']\n",
      "/molecule_type=DNA\n",
      "/data_file_division=PLN\n",
      "/date=31-JUL-2018\n",
      "/organism=Cypripedium calceolus\n",
      "/sequence_version=1\n",
      "/topology=linear\n",
      "Seq('AATTATGTGTCAGATCTACTAATACCCCATCCCATCCATCTGGAAATCTTGGTT...AAA', IUPACAmbiguousDNA())\n"
     ]
    }
   ],
   "source": [
    "import os\n",
    "\n",
    "filename = 'MF543506.gbk'\n",
    "if not os.path.isfile(filename):\n",
    "    net_handle = Entrez.efetch(db='nucleotide', id='MF543506', rettype='gb', retmode='text')\n",
    "    out_handle = open(filename, 'w')\n",
    "    out_handle.write(net_handle.read())\n",
    "    out_handle.close()\n",
    "    net_handle.close()\n",
    "    print(\"Saved\")\n",
    "print(\"Parsing...\")\n",
    "record = SeqIO.read(filename, 'genbank')\n",
    "print(record)"
   ]
  },
  {
   "cell_type": "code",
   "execution_count": 16,
   "metadata": {},
   "outputs": [
    {
     "name": "stdout",
     "output_type": "stream",
     "text": [
      "[DictElement({u'ERROR': [], u'DbFrom': 'pubmed', u'IdList': ['0'], u'LinkSetDbHistory': [], u'LinkSetDb': []}, attributes={})]\n"
     ]
    }
   ],
   "source": [
    "handle = Entrez.elink(db='nucleotide', id='MF543506', rettype='gb', retmode='text')\n",
    "record = Entrez.read(handle)\n",
    "\n",
    "# record is not a dictionary\n",
    "# record is a list containing 1 id I used above\n",
    "# in turn, this id is a dictionary\n",
    "\n",
    "print(record)"
   ]
  },
  {
   "cell_type": "code",
   "execution_count": 17,
   "metadata": {},
   "outputs": [
    {
     "name": "stdout",
     "output_type": "stream",
     "text": [
      "DictElement({u'ERROR': [], u'DbFrom': 'pubmed', u'IdList': ['0'], u'LinkSetDbHistory': [], u'LinkSetDb': []}, attributes={})\n"
     ]
    }
   ],
   "source": [
    "print(record[0])"
   ]
  },
  {
   "cell_type": "code",
   "execution_count": 19,
   "metadata": {},
   "outputs": [
    {
     "name": "stdout",
     "output_type": "stream",
     "text": [
      "pubmed\n"
     ]
    }
   ],
   "source": [
    "print(record[0]['DbFrom'])"
   ]
  },
  {
   "cell_type": "code",
   "execution_count": null,
   "metadata": {},
   "outputs": [],
   "source": []
  }
 ],
 "metadata": {
  "kernelspec": {
   "display_name": "Python 2",
   "language": "python",
   "name": "python2"
  },
  "language_info": {
   "codemirror_mode": {
    "name": "ipython",
    "version": 2
   },
   "file_extension": ".py",
   "mimetype": "text/x-python",
   "name": "python",
   "nbconvert_exporter": "python",
   "pygments_lexer": "ipython2",
   "version": "2.7.15"
  }
 },
 "nbformat": 4,
 "nbformat_minor": 2
}
