{
 "cells": [
  {
   "cell_type": "code",
   "execution_count": 1,
   "metadata": {},
   "outputs": [
    {
     "name": "stdout",
     "output_type": "stream",
     "text": [
      "<class 'Bio.Seq.Seq'>\n"
     ]
    }
   ],
   "source": [
    "from Bio.Seq import Seq\n",
    "my_seq = Seq(\"CCATGCCGT\")\n",
    "print(type(my_seq))"
   ]
  },
  {
   "cell_type": "code",
   "execution_count": 2,
   "metadata": {},
   "outputs": [
    {
     "name": "stdout",
     "output_type": "stream",
     "text": [
      "['__add__', '__class__', '__contains__', '__delattr__', '__dict__', '__doc__', '__eq__', '__format__', '__getattribute__', '__getitem__', '__hash__', '__imul__', '__init__', '__le__', '__len__', '__lt__', '__module__', '__mul__', '__ne__', '__new__', '__radd__', '__reduce__', '__reduce_ex__', '__repr__', '__rmul__', '__setattr__', '__sizeof__', '__str__', '__subclasshook__', '__weakref__', '_data', '_get_seq_str_and_check_alphabet', 'alphabet', 'back_transcribe', 'complement', 'count', 'count_overlap', 'endswith', 'find', 'lower', 'lstrip', 'reverse_complement', 'rfind', 'rsplit', 'rstrip', 'split', 'startswith', 'strip', 'tomutable', 'tostring', 'transcribe', 'translate', 'ungap', 'upper']\n"
     ]
    }
   ],
   "source": [
    "#let's see what attributes this object has\n",
    "print(dir(my_seq))"
   ]
  },
  {
   "cell_type": "code",
   "execution_count": 3,
   "metadata": {},
   "outputs": [
    {
     "name": "stdout",
     "output_type": "stream",
     "text": [
      "['alphabet', 'back_transcribe', 'complement', 'count', 'count_overlap', 'endswith', 'find', 'lower', 'lstrip', 'reverse_complement', 'rfind', 'rsplit', 'rstrip', 'split', 'startswith', 'strip', 'tomutable', 'tostring', 'transcribe', 'translate', 'ungap', 'upper']\n"
     ]
    }
   ],
   "source": [
    "#all these are default, now filter them out and show the ones without _\n",
    "attributes = [a for a in dir(my_seq) if not a.startswith(\"_\")]\n",
    "print(attributes)"
   ]
  },
  {
   "cell_type": "code",
   "execution_count": 4,
   "metadata": {},
   "outputs": [],
   "source": [
    "from Bio.Alphabet import generic_dna, generic_rna, generic_protein\n",
    "\n",
    "my_dna = Seq(\"CCCTATGCGAAC\", generic_dna)\n",
    "my_rna = Seq(\"UCGACCGUUAUC\", generic_rna)\n",
    "my_protein = Seq(\"AKKKGGGUUULL\", generic_protein)"
   ]
  },
  {
   "cell_type": "code",
   "execution_count": 5,
   "metadata": {},
   "outputs": [
    {
     "name": "stdout",
     "output_type": "stream",
     "text": [
      "CCCUAUGCGAAC\n",
      "RNAAlphabet()\n"
     ]
    }
   ],
   "source": [
    "my_gene = Seq(\"CCCTATGCGAAC\", generic_dna)\n",
    "\n",
    "#get the mRNA\n",
    "\n",
    "my_transcript = my_gene.transcribe()\n",
    "print(my_transcript)\n",
    "print(my_transcript.alphabet)"
   ]
  },
  {
   "cell_type": "code",
   "execution_count": 6,
   "metadata": {},
   "outputs": [
    {
     "name": "stdout",
     "output_type": "stream",
     "text": [
      "PYAN\n",
      "ExtendedIUPACProtein()\n"
     ]
    }
   ],
   "source": [
    "#get the protein from the mRNA\n",
    "\n",
    "my_protein = my_transcript.translate()\n",
    "print(my_protein)\n",
    "print(my_protein.alphabet)"
   ]
  },
  {
   "cell_type": "code",
   "execution_count": 7,
   "metadata": {},
   "outputs": [
    {
     "name": "stdout",
     "output_type": "stream",
     "text": [
      "MAIVMGR*KGAR*\n"
     ]
    }
   ],
   "source": [
    "#can go straight from the DNA to the protein. \n",
    "#the stop codon is represented as * and then translation continues\n",
    "\n",
    "coding_dna = Seq(\"ATGGCCATTGTAATGGGCCGCTGAAAGGGTGCCCGATAG\", generic_dna)\n",
    "my_prot = coding_dna.translate()\n",
    "print(my_prot)"
   ]
  },
  {
   "cell_type": "code",
   "execution_count": 8,
   "metadata": {},
   "outputs": [
    {
     "name": "stdout",
     "output_type": "stream",
     "text": [
      "MAIVMGR\n"
     ]
    }
   ],
   "source": [
    "#can tell translation to stop when it hits a stop codon\n",
    "\n",
    "my_prot = coding_dna.translate(to_stop = True)\n",
    "print(my_prot)"
   ]
  },
  {
   "cell_type": "code",
   "execution_count": 14,
   "metadata": {},
   "outputs": [
    {
     "ename": "TranslationError",
     "evalue": "Extra in frame stop codon found.",
     "output_type": "error",
     "traceback": [
      "\u001b[0;31m---------------------------------------------------------------------------\u001b[0m",
      "\u001b[0;31mTranslationError\u001b[0m                          Traceback (most recent call last)",
      "\u001b[0;32m<ipython-input-14-645fcadfd9c5>\u001b[0m in \u001b[0;36m<module>\u001b[0;34m()\u001b[0m\n\u001b[1;32m      4\u001b[0m \u001b[0;31m#this can be done by setting \"coding sequence\" cds=True\u001b[0m\u001b[0;34m\u001b[0m\u001b[0;34m\u001b[0m\u001b[0m\n\u001b[1;32m      5\u001b[0m \u001b[0;34m\u001b[0m\u001b[0m\n\u001b[0;32m----> 6\u001b[0;31m \u001b[0mmy_prot\u001b[0m \u001b[0;34m=\u001b[0m \u001b[0mcoding_dna\u001b[0m\u001b[0;34m.\u001b[0m\u001b[0mtranslate\u001b[0m\u001b[0;34m(\u001b[0m\u001b[0mcds\u001b[0m \u001b[0;34m=\u001b[0m \u001b[0mTrue\u001b[0m\u001b[0;34m)\u001b[0m\u001b[0;34m\u001b[0m\u001b[0m\n\u001b[0m\u001b[1;32m      7\u001b[0m \u001b[0;32mprint\u001b[0m\u001b[0;34m(\u001b[0m\u001b[0mmy_prot\u001b[0m\u001b[0;34m)\u001b[0m\u001b[0;34m\u001b[0m\u001b[0m\n",
      "\u001b[0;32m/Users/vulehuytran/anaconda2/lib/python2.7/site-packages/Bio/Seq.pyc\u001b[0m in \u001b[0;36mtranslate\u001b[0;34m(self, table, stop_symbol, to_stop, cds, gap)\u001b[0m\n\u001b[1;32m   1161\u001b[0m \u001b[0;34m\u001b[0m\u001b[0m\n\u001b[1;32m   1162\u001b[0m         protein = _translate_str(str(self), codon_table, stop_symbol, to_stop,\n\u001b[0;32m-> 1163\u001b[0;31m                                  cds, gap=gap)\n\u001b[0m\u001b[1;32m   1164\u001b[0m \u001b[0;34m\u001b[0m\u001b[0m\n\u001b[1;32m   1165\u001b[0m         \u001b[0;32mif\u001b[0m \u001b[0mgap\u001b[0m \u001b[0;32mand\u001b[0m \u001b[0mgap\u001b[0m \u001b[0;32min\u001b[0m \u001b[0mprotein\u001b[0m\u001b[0;34m:\u001b[0m\u001b[0;34m\u001b[0m\u001b[0m\n",
      "\u001b[0;32m/Users/vulehuytran/anaconda2/lib/python2.7/site-packages/Bio/Seq.pyc\u001b[0m in \u001b[0;36m_translate_str\u001b[0;34m(sequence, table, stop_symbol, to_stop, cds, pos_stop, gap)\u001b[0m\n\u001b[1;32m   2591\u001b[0m                 \u001b[0;32mif\u001b[0m \u001b[0mcds\u001b[0m\u001b[0;34m:\u001b[0m\u001b[0;34m\u001b[0m\u001b[0m\n\u001b[1;32m   2592\u001b[0m                     raise CodonTable.TranslationError(\n\u001b[0;32m-> 2593\u001b[0;31m                         \"Extra in frame stop codon found.\")\n\u001b[0m\u001b[1;32m   2594\u001b[0m                 \u001b[0;32mif\u001b[0m \u001b[0mto_stop\u001b[0m\u001b[0;34m:\u001b[0m\u001b[0;34m\u001b[0m\u001b[0m\n\u001b[1;32m   2595\u001b[0m                     \u001b[0;32mbreak\u001b[0m\u001b[0;34m\u001b[0m\u001b[0m\n",
      "\u001b[0;31mTranslationError\u001b[0m: Extra in frame stop codon found."
     ]
    }
   ],
   "source": [
    "#can tell translation to translate only valid genes \n",
    "#(i.e. with a valid start and stop codons and proper number of bases)\n",
    "\n",
    "#this can be done by setting \"coding sequence\" cds=True\n",
    "\n",
    "my_prot = coding_dna.translate(cds = True)\n",
    "print(my_prot)"
   ]
  },
  {
   "cell_type": "code",
   "execution_count": 15,
   "metadata": {},
   "outputs": [
    {
     "name": "stdout",
     "output_type": "stream",
     "text": [
      "MAIVM\n"
     ]
    }
   ],
   "source": [
    "gene = Seq(\"ATGGCCATTGTAATGTAG\", generic_dna)\n",
    "protein = gene.translate(cds = True)\n",
    "print(protein)"
   ]
  },
  {
   "cell_type": "code",
   "execution_count": null,
   "metadata": {},
   "outputs": [],
   "source": []
  }
 ],
 "metadata": {
  "kernelspec": {
   "display_name": "Python 2",
   "language": "python",
   "name": "python2"
  },
  "language_info": {
   "codemirror_mode": {
    "name": "ipython",
    "version": 2
   },
   "file_extension": ".py",
   "mimetype": "text/x-python",
   "name": "python",
   "nbconvert_exporter": "python",
   "pygments_lexer": "ipython2",
   "version": "2.7.15"
  }
 },
 "nbformat": 4,
 "nbformat_minor": 2
}
