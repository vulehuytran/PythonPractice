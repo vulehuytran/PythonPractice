{
 "cells": [
  {
   "cell_type": "code",
   "execution_count": 1,
   "metadata": {},
   "outputs": [
    {
     "name": "stdout",
     "output_type": "stream",
     "text": [
      "30\n",
      "THIS IS A LEARNING EXPERIENCE.\n"
     ]
    }
   ],
   "source": [
    "my_string = \"This is a learning experience.\"\n",
    "print len(my_string)\n",
    "print my_string.upper()"
   ]
  },
  {
   "cell_type": "code",
   "execution_count": 2,
   "metadata": {},
   "outputs": [
    {
     "name": "stdout",
     "output_type": "stream",
     "text": [
      "Let's not go to Camelot. 'Tis a silly place.\n"
     ]
    }
   ],
   "source": [
    "string_1 = \"Camelot\"\n",
    "string_2 = \"place\"\n",
    "\n",
    "print \"Let's not go to %s. 'Tis a silly %s.\" % (string_1, string_2)"
   ]
  },
  {
   "cell_type": "code",
   "execution_count": null,
   "metadata": {},
   "outputs": [],
   "source": []
  }
 ],
 "metadata": {
  "kernelspec": {
   "display_name": "Python 2",
   "language": "python",
   "name": "python2"
  },
  "language_info": {
   "codemirror_mode": {
    "name": "ipython",
    "version": 2
   },
   "file_extension": ".py",
   "mimetype": "text/x-python",
   "name": "python",
   "nbconvert_exporter": "python",
   "pygments_lexer": "ipython2",
   "version": "2.7.15"
  }
 },
 "nbformat": 4,
 "nbformat_minor": 2
}
